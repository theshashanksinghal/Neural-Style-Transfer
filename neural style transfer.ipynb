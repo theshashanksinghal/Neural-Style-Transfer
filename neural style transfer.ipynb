{
 "cells": [
  {
   "cell_type": "code",
   "execution_count": 1,
   "metadata": {
    "collapsed": true
   },
   "outputs": [],
   "source": [
    "import numpy as np\n",
    "import scipy.misc\n",
    "from scipy.io import loadmat\n",
    "import matplotlib.pyplot as plt\n",
    "import tensorflow as tf\n",
    "from scipy.misc import imread\n",
    "from matplotlib.pyplot import imshow"
   ]
  },
  {
   "cell_type": "code",
   "execution_count": 2,
   "metadata": {
    "collapsed": true
   },
   "outputs": [],
   "source": [
    "path=\"imagenet-vgg-verydeep-19.mat\""
   ]
  },
  {
   "cell_type": "code",
   "execution_count": 3,
   "metadata": {
    "collapsed": true
   },
   "outputs": [],
   "source": [
    "mat_file=loadmat(path)"
   ]
  },
  {
   "cell_type": "code",
   "execution_count": 4,
   "metadata": {},
   "outputs": [
    {
     "data": {
      "text/plain": [
       "dict_keys(['__header__', '__version__', '__globals__', 'layers', 'meta'])"
      ]
     },
     "execution_count": 4,
     "metadata": {},
     "output_type": "execute_result"
    }
   ],
   "source": [
    "mat_file.keys()"
   ]
  },
  {
   "cell_type": "code",
   "execution_count": 5,
   "metadata": {},
   "outputs": [
    {
     "name": "stdout",
     "output_type": "stream",
     "text": [
      "(1, 43)\n",
      "(1, 1)\n",
      "()\n",
      "<class 'numpy.void'>\n",
      "['conv1_1']\n",
      "['conv']\n",
      "(1, 2)\n"
     ]
    }
   ],
   "source": [
    "print(mat_file[\"layers\"].shape)#layers key contains our main data and it is (1,43) in shape\n",
    "print(mat_file[\"layers\"][0][0].shape)#we want to see the first element of first row and firt=st column and it is (1,1) in shape\n",
    "#print(mat_file[\"layers\"][0][0][0][0])#visualizing the array\n",
    "print(mat_file[\"layers\"][0][0][0][0].shape)#accessing first element of the (1,1) array(first element by accessing first row and first column) and found that it is () shape\n",
    "print(type(mat_file[\"layers\"][0][0][0][0]))#it is of numpy.void type which means that elements it contains are of struct type means  it is the combination of string,uint8,float etc\n",
    "print(mat_file[\"layers\"][0][0][0][0][0])#accessing first element of this numpy.void type element and found that it is the name of the layer\n",
    "print(mat_file[\"layers\"][0][0][0][0][1])#accessing second element of this numpy.void type element and found that it is the name of the operation applied\n",
    "#print(mat_file[\"layers\"][0][0][0][0][2])##accessing third element of this numpy.void type element and found that it is the weight matrix\n",
    "print(mat_file[\"layers\"][0][0][0][0][2].shape)#shape of this element is (1,2) means one for the weight and other for the bias term\n"
   ]
  },
  {
   "cell_type": "code",
   "execution_count": 6,
   "metadata": {
    "collapsed": true
   },
   "outputs": [],
   "source": [
    "def conv_relu_layer(l_prev,layer_sequence):\n",
    "    layer_weights=mat_file[\"layers\"][0][layer_sequence][0][0][2]#it is of size (1,2)\n",
    "    w=layer_weights[0][0]\n",
    "    b=layer_weights[0][1]\n",
    "    w=tf.constant(w)\n",
    "    b=tf.constant(np.reshape(b,(b.size)))#since the shape of b is (64,1) for tensorflow bias it show be of dimensions(64,)## (b.size calculate the number of elements present in b)\n",
    "    conv=tf.nn.conv2d(l_prev,filter=w,strides=[1,1,1,1],padding=\"SAME\") + b\n",
    "    relu=tf.nn.relu(conv)\n",
    "    return relu"
   ]
  },
  {
   "cell_type": "code",
   "execution_count": 7,
   "metadata": {
    "collapsed": true
   },
   "outputs": [],
   "source": [
    "def pooling(layer):\n",
    "    return tf.nn.avg_pool(layer,[1,2,2,1],[1,2,2,1],padding=\"SAME\")"
   ]
  },
  {
   "cell_type": "code",
   "execution_count": 8,
   "metadata": {
    "collapsed": true
   },
   "outputs": [],
   "source": [
    "def load_model():\n",
    "    vgg_model={}\n",
    "    vgg_model['input']=tf.Variable(np.zeros((1,300,400,3)),dtype=\"float32\")\n",
    "    vgg_model['conv1_1']=conv_relu_layer(vgg_model['input'],0)\n",
    "    vgg_model['conv1_2']=conv_relu_layer(vgg_model['conv1_1'],2)\n",
    "    vgg_model['avg_pool1']=pooling(vgg_model['conv1_2'])\n",
    "    vgg_model['conv2_1']=conv_relu_layer(vgg_model['avg_pool1'],5)\n",
    "    vgg_model['conv2_2']=conv_relu_layer(vgg_model['conv2_1'],7)\n",
    "    vgg_model['avg_pool2']=pooling(vgg_model['conv2_2'])\n",
    "    vgg_model['conv3_1']=conv_relu_layer(vgg_model['avg_pool2'],10)\n",
    "    vgg_model['conv3_2']=conv_relu_layer(vgg_model['conv3_1'],12)\n",
    "    vgg_model['conv3_3']=conv_relu_layer(vgg_model['conv3_2'],14)\n",
    "    vgg_model['conv3_4']=conv_relu_layer(vgg_model['conv3_3'],16)\n",
    "    vgg_model['avg_pool3']=pooling(vgg_model['conv3_4'])\n",
    "    vgg_model['conv4_1']=conv_relu_layer(vgg_model['avg_pool3'],19)\n",
    "    vgg_model['conv4_2']=conv_relu_layer(vgg_model['conv4_1'],21)\n",
    "    vgg_model['conv4_3']=conv_relu_layer(vgg_model['conv4_2'],23)\n",
    "    vgg_model['conv4_4']=conv_relu_layer(vgg_model['conv4_3'],25)\n",
    "    vgg_model['avg_pool4']=pooling(vgg_model['conv4_4'])\n",
    "    vgg_model['conv5_1']=conv_relu_layer(vgg_model['avg_pool4'],28)\n",
    "    vgg_model['conv5_2']=conv_relu_layer(vgg_model['conv5_1'],30)\n",
    "    vgg_model['conv5_3']=conv_relu_layer(vgg_model['conv5_2'],32)\n",
    "    vgg_model['conv5_4']=conv_relu_layer(vgg_model['conv5_3'],34)\n",
    "    vgg_model['avg_pool5']=pooling(vgg_model['conv5_4'])\n",
    "    \n",
    "    return vgg_model"
   ]
  },
  {
   "cell_type": "code",
   "execution_count": 9,
   "metadata": {
    "collapsed": true
   },
   "outputs": [],
   "source": [
    "vgg_model=load_model()"
   ]
  },
  {
   "cell_type": "code",
   "execution_count": 10,
   "metadata": {},
   "outputs": [
    {
     "data": {
      "text/plain": [
       "{'input': <tf.Variable 'Variable:0' shape=(1, 300, 400, 3) dtype=float32_ref>,\n",
       " 'conv1_1': <tf.Tensor 'Relu:0' shape=(1, 300, 400, 64) dtype=float32>,\n",
       " 'conv1_2': <tf.Tensor 'Relu_1:0' shape=(1, 300, 400, 64) dtype=float32>,\n",
       " 'avg_pool1': <tf.Tensor 'AvgPool:0' shape=(1, 150, 200, 64) dtype=float32>,\n",
       " 'conv2_1': <tf.Tensor 'Relu_2:0' shape=(1, 150, 200, 128) dtype=float32>,\n",
       " 'conv2_2': <tf.Tensor 'Relu_3:0' shape=(1, 150, 200, 128) dtype=float32>,\n",
       " 'avg_pool2': <tf.Tensor 'AvgPool_1:0' shape=(1, 75, 100, 128) dtype=float32>,\n",
       " 'conv3_1': <tf.Tensor 'Relu_4:0' shape=(1, 75, 100, 256) dtype=float32>,\n",
       " 'conv3_2': <tf.Tensor 'Relu_5:0' shape=(1, 75, 100, 256) dtype=float32>,\n",
       " 'conv3_3': <tf.Tensor 'Relu_6:0' shape=(1, 75, 100, 256) dtype=float32>,\n",
       " 'conv3_4': <tf.Tensor 'Relu_7:0' shape=(1, 75, 100, 256) dtype=float32>,\n",
       " 'avg_pool3': <tf.Tensor 'AvgPool_2:0' shape=(1, 38, 50, 256) dtype=float32>,\n",
       " 'conv4_1': <tf.Tensor 'Relu_8:0' shape=(1, 38, 50, 512) dtype=float32>,\n",
       " 'conv4_2': <tf.Tensor 'Relu_9:0' shape=(1, 38, 50, 512) dtype=float32>,\n",
       " 'conv4_3': <tf.Tensor 'Relu_10:0' shape=(1, 38, 50, 512) dtype=float32>,\n",
       " 'conv4_4': <tf.Tensor 'Relu_11:0' shape=(1, 38, 50, 512) dtype=float32>,\n",
       " 'avg_pool4': <tf.Tensor 'AvgPool_3:0' shape=(1, 19, 25, 512) dtype=float32>,\n",
       " 'conv5_1': <tf.Tensor 'Relu_12:0' shape=(1, 19, 25, 512) dtype=float32>,\n",
       " 'conv5_2': <tf.Tensor 'Relu_13:0' shape=(1, 19, 25, 512) dtype=float32>,\n",
       " 'conv5_3': <tf.Tensor 'Relu_14:0' shape=(1, 19, 25, 512) dtype=float32>,\n",
       " 'conv5_4': <tf.Tensor 'Relu_15:0' shape=(1, 19, 25, 512) dtype=float32>,\n",
       " 'avg_pool5': <tf.Tensor 'AvgPool_4:0' shape=(1, 10, 13, 512) dtype=float32>}"
      ]
     },
     "execution_count": 10,
     "metadata": {},
     "output_type": "execute_result"
    }
   ],
   "source": [
    "vgg_model"
   ]
  },
  {
   "cell_type": "code",
   "execution_count": 11,
   "metadata": {
    "collapsed": true
   },
   "outputs": [],
   "source": [
    "#reshape and subtract the mean from each channel so as to make it compactible with VGG19 model\n",
    "def reshape_normalize(image):\n",
    "    image=np.reshape(image,((1,)+image.shape))\n",
    "    mean=np.array([123.68, 116.779, 103.939],dtype='float32').reshape((1,1,1,3))\n",
    "    image-=mean\n",
    "    return image"
   ]
  },
  {
   "cell_type": "code",
   "execution_count": 12,
   "metadata": {
    "collapsed": true
   },
   "outputs": [],
   "source": [
    "def save_image(path,image):\n",
    "    image=image+np.array([123.68, 116.779, 103.939],dtype='float32').reshape((1,1,1,3))\n",
    "    scipy.misc.imsave(path,image)"
   ]
  },
  {
   "cell_type": "markdown",
   "metadata": {},
   "source": [
    "We will define as the content cost function as:\n",
    "\n",
    "$$J_{content}(C,G) =  \\frac{1}{4 \\times n_H \\times n_W \\times n_C}\\sum _{ \\text{all entries}} (a^{(C)} - a^{(G)})^2\\tag{1} $$\n",
    "\n"
   ]
  },
  {
   "cell_type": "code",
   "execution_count": 13,
   "metadata": {},
   "outputs": [],
   "source": [
    "#first choose the hidden layer in middle, not so deep and not so near.\n",
    "#get the dimensions and then unrolling the hidden layer for both content image and generated image, then find the reduced sum \n",
    "#of square of the difference of activations of a_c and a_g.\n",
    "def content_cost(a_c,a_g):\n",
    "    m,n_h,n_w,n_c=a_g.get_shape().as_list()#a_c is  numpy array and a_g is a tensor and numpy have no function as get_shape\n",
    "    unroll_a_c=tf.transpose(tf.reshape(a_c,[n_h*n_w,n_c]))#the reshaping is not needed in computing content cost\n",
    "    unroll_a_g=tf.transpose(tf.reshape(a_g,[n_h*n_w,n_c]))#this unrolling is needed only in style cost\n",
    "    c_cost=tf.reduce_sum(tf.square(tf.subtract(unroll_a_c,unroll_a_g)))/(4*n_h*n_w*n_c)\n",
    "    return c_cost"
   ]
  },
  {
   "cell_type": "markdown",
   "metadata": {},
   "source": [
    "### Style matrix\n",
    "The style matrix is also called a \"Gram matrix.\" In linear algebra, the Gram matrix G of a set of vectors $(v_{1},\\dots ,v_{n})$ is the matrix of dot products, whose entries are ${\\displaystyle G_{ij} = v_{i}^T v_{j} = np.dot(v_{i}, v_{j})  }$. In other words, $G_{ij}$ compares how similar $v_i$ is to $v_j$: If they are highly similar, you would expect them to have a large dot product, and thus for $G_{ij}$ to be large. \n",
    "##### This is important to note\n",
    "The result is a matrix of dimension $(n_C,n_C)$ where $n_C$ is the number of filters. The value $G_{ij}$ measures how similar the activations of filter $i$ are to the activations of filter $j$. it means you have to transpose the matrix before calculating the gram matrix.\n",
    "\n",
    "One important part of the gram matrix is that the diagonal elements such as $G_{ii}$ also measures how active filter $i$ is. For example, suppose filter $i$ is detecting vertical textures in the image. Then $G_{ii}$ measures how common  vertical textures are in the image as a whole: If $G_{ii}$ is large, this means that the image has a lot of vertical texture.\n",
    "\n",
    "By capturing the prevalence of different types of features ($G_{ii}$), as well as how much different features occur together ($G_{ij}$), the Style matrix $G$ measures the style of an image.\n",
    "\n",
    "After generating the Style matrix (Gram matrix), your goal will be to minimize the distance between the Gram matrix of the \"style\" image S and that of the \"generated\" image G. For now, we are using only a single hidden layer $a^{[l]}$, and the corresponding style cost for this layer is defined as: \n",
    "\n",
    "$$J_{style}^{[l]}(S,G) = \\frac{1}{4 \\times {n_C}^2 \\times (n_H \\times n_W)^2} \\sum _{i=1}^{n_C}\\sum_{j=1}^{n_C}(G^{(S)}_{ij} - G^{(G)}_{ij})^2\\tag{2} $$\n",
    "\n",
    "where $G^{(S)}$ and $G^{(G)}$ are respectively the Gram matrices of the \"style\" image and the \"generated\" image, computed using the hidden layer activations for a particular hidden layer in the network.  "
   ]
  },
  {
   "cell_type": "code",
   "execution_count": 14,
   "metadata": {
    "collapsed": true
   },
   "outputs": [],
   "source": [
    "#This style cost is defined for only one layer\n",
    "def style_cost(a_s,a_g):\n",
    "    m,n_h,n_w,n_c=a_g.get_shape().as_list()\n",
    "    unroll_a_s=tf.transpose(tf.reshape(a_s,[n_h*n_w,n_c]))#its shape is [n_c,n_h*n_w] so that we can get the gram matrix of shape n_c,n_c\n",
    "    unroll_a_g=tf.transpose(tf.reshape(a_g,[n_h*n_w,n_c]))\n",
    "    gram_matrix_a_s=tf.matmul(unroll_a_s,tf.transpose(unroll_a_s))\n",
    "    gram_matrix_a_g=tf.matmul(unroll_a_g,tf.transpose(unroll_a_g))\n",
    "    s_cost=tf.reduce_sum(tf.square(tf.subtract(gram_matrix_a_s,gram_matrix_a_g)))/(4*((n_h*n_w*n_c)**2))\n",
    "    return s_cost"
   ]
  },
  {
   "cell_type": "markdown",
   "metadata": {},
   "source": [
    "### Style Weights\n",
    "\n",
    "So far you have captured the style from only one layer. We'll get better results if we \"merge\" style costs from several different layers.\n",
    "\n",
    "The numerical value given is the weightage for that particular layer"
   ]
  },
  {
   "cell_type": "code",
   "execution_count": 15,
   "metadata": {
    "collapsed": true
   },
   "outputs": [],
   "source": [
    "style_layers=[('conv1_1',0.2),('conv2_1',0.2),('conv3_1',0.2),('conv4_1',0.2),('conv5_1',0.2)]"
   ]
  },
  {
   "cell_type": "markdown",
   "metadata": {
    "collapsed": true
   },
   "source": [
    "You can combine the style costs for different layers as follows:\n",
    "\n",
    "$$J_{style}(S,G) = \\sum_{l} \\lambda^{[l]} J^{[l]}_{style}(S,G)$$\n",
    "\n",
    "where the values for $\\lambda^{[l]}$ are given in `style_layers`."
   ]
  },
  {
   "cell_type": "code",
   "execution_count": 16,
   "metadata": {
    "collapsed": true
   },
   "outputs": [],
   "source": [
    "def all_style_cost(model,style_layers):\n",
    "    J_style=0\n",
    "    for l,w in style_layers:\n",
    "        act=model[l]\n",
    "        a_s=sess.run(act)\n",
    "        a_g=act#its a tensor, this will be computed when we run interactive session i.e. main session\n",
    "        J=style_cost(a_s,a_g)\n",
    "        J_style+=w*J\n",
    "        return J_style"
   ]
  },
  {
   "cell_type": "code",
   "execution_count": 17,
   "metadata": {
    "collapsed": true
   },
   "outputs": [],
   "source": [
    "def total_cost(J_con,J_sty,alfa=10,beta=40):\n",
    "    cost=alfa*J_con+beta* J_sty\n",
    "    return cost"
   ]
  },
  {
   "cell_type": "markdown",
   "metadata": {},
   "source": [
    "We'll now set up TensorFlow to optimize this with respect to $G$. To do so, your program has to reset the graph and use an \"[Interactive Session](https://www.tensorflow.org/api_docs/python/tf/InteractiveSession)\". Unlike a regular session, the \"Interactive Session\" installs itself as the default session to build a graph.  This allows you to run variables without constantly needing to refer to the session object, which simplifies the code.  "
   ]
  },
  {
   "cell_type": "code",
   "execution_count": 18,
   "metadata": {},
   "outputs": [],
   "source": [
    "tf.reset_default_graph()\n",
    "sess=tf.InteractiveSession()"
   ]
  },
  {
   "cell_type": "code",
   "execution_count": 19,
   "metadata": {
    "scrolled": true
   },
   "outputs": [
    {
     "name": "stderr",
     "output_type": "stream",
     "text": [
      "C:\\Users\\Hp\\Anaconda3\\lib\\site-packages\\ipykernel_launcher.py:1: DeprecationWarning: `imread` is deprecated!\n",
      "`imread` is deprecated in SciPy 1.0.0, and will be removed in 1.2.0.\n",
      "Use ``imageio.imread`` instead.\n",
      "  \"\"\"Entry point for launching an IPython kernel.\n"
     ]
    }
   ],
   "source": [
    "content_image=imread('content.jpg').astype('float32')\n",
    "content_image=reshape_normalize(content_image)"
   ]
  },
  {
   "cell_type": "code",
   "execution_count": 20,
   "metadata": {},
   "outputs": [
    {
     "name": "stderr",
     "output_type": "stream",
     "text": [
      "C:\\Users\\Hp\\Anaconda3\\lib\\site-packages\\ipykernel_launcher.py:1: DeprecationWarning: `imread` is deprecated!\n",
      "`imread` is deprecated in SciPy 1.0.0, and will be removed in 1.2.0.\n",
      "Use ``imageio.imread`` instead.\n",
      "  \"\"\"Entry point for launching an IPython kernel.\n"
     ]
    }
   ],
   "source": [
    "style_image=imread(\"style.jpg\").astype('float32')\n",
    "style_image=reshape_normalize(style_image)"
   ]
  },
  {
   "cell_type": "markdown",
   "metadata": {},
   "source": [
    "Now, we initialize the \"generated\" image as a noisy image created from the content_image. By initializing the pixels of the generated image to be mostly noise but still slightly correlated with the content image, this will help the content of the \"generated\" image more rapidly match the content of the \"content\" image."
   ]
  },
  {
   "cell_type": "code",
   "execution_count": 21,
   "metadata": {},
   "outputs": [
    {
     "name": "stderr",
     "output_type": "stream",
     "text": [
      "Clipping input data to the valid range for imshow with RGB data ([0..1] for floats or [0..255] for integers).\n"
     ]
    },
    {
     "data": {
      "text/plain": [
       "<matplotlib.image.AxesImage at 0x175b2208>"
      ]
     },
     "execution_count": 21,
     "metadata": {},
     "output_type": "execute_result"
    },
    {
     "data": {
      "image/png": "[encoded data removed]",
      "text/plain": [
       "<Figure size 432x288 with 1 Axes>"
      ]
     },
     "metadata": {},
     "output_type": "display_data"
    }
   ],
   "source": [
    "%matplotlib inline\n",
    "noise_ratio=0.6\n",
    "noise=np.random.uniform(-20,20,(1,300,400,3)).astype('float32')\n",
    "generated_image=noise_ratio*noise+(1-noise_ratio)*content_image\n",
    "generated_image=noise\n",
    "imshow(generated_image[0])"
   ]
  },
  {
   "cell_type": "code",
   "execution_count": 28,
   "metadata": {
    "collapsed": true
   },
   "outputs": [],
   "source": [
    "model=load_model()"
   ]
  },
  {
   "cell_type": "code",
   "execution_count": 29,
   "metadata": {
    "collapsed": true
   },
   "outputs": [],
   "source": [
    "sess.run(model['input'].assign(content_image))\n",
    "c_o=model['conv4_2']\n",
    "a_c=sess.run(c_o)\n",
    "a_g=c_o\n",
    "J_content=content_cost(a_c,a_g)"
   ]
  },
  {
   "cell_type": "code",
   "execution_count": 30,
   "metadata": {
    "collapsed": true
   },
   "outputs": [],
   "source": [
    "sess.run(model['input'].assign(style_image))\n",
    "J_style=all_style_cost(model,style_layers)"
   ]
  },
  {
   "cell_type": "code",
   "execution_count": 31,
   "metadata": {
    "collapsed": true
   },
   "outputs": [],
   "source": [
    "J=total_cost(J_content,J_style)"
   ]
  },
  {
   "cell_type": "code",
   "execution_count": 32,
   "metadata": {
    "collapsed": true
   },
   "outputs": [],
   "source": [
    "training=tf.train.AdamOptimizer(2.0).minimize(J)"
   ]
  },
  {
   "cell_type": "code",
   "execution_count": 33,
   "metadata": {
    "collapsed": true
   },
   "outputs": [],
   "source": [
    "def full_model(sess,gen_image,num_iter=100):\n",
    "    sess.run(tf.global_variables_initializer())\n",
    "    sess.run(model['input'].assign(gen_image))\n",
    "    for i in range(num_iter):\n",
    "        _=sess.run(training)\n",
    "        generated_image=sess.run(model['input'])\n",
    "        # Print every 20 iteration.\n",
    "        if i%20 == 0:\n",
    "            Jt, Jc, Js = sess.run([J, J_content, J_style])\n",
    "            print(\"Iteration \" + str(i) + \" :\")\n",
    "            print(\"total cost = \" + str(Jt))\n",
    "            print(\"content cost = \" + str(Jc))\n",
    "            print(\"style cost = \" + str(Js))\n",
    "             #save progress image\n",
    "            #save_image('C:/Users/Hp/Desktop/my work'+str(i)+\".png\",generated_image)\n",
    "    #save final image\n",
    "    #save_image('generated_image.jpg',generated_image)\n",
    "    return generated_image"
   ]
  },
  {
   "cell_type": "code",
   "execution_count": 34,
   "metadata": {},
   "outputs": [
    {
     "name": "stdout",
     "output_type": "stream",
     "text": [
      "Iteration 0 :\n",
      "total cost = 2.76739e+06\n",
      "content cost = 15256.6\n",
      "style cost = 65370.6\n",
      "Iteration 20 :\n",
      "total cost = 1.92535e+06\n",
      "content cost = 13323.7\n",
      "style cost = 44802.9\n",
      "Iteration 40 :\n",
      "total cost = 1.05551e+06\n",
      "content cost = 13542.9\n",
      "style cost = 23002.1\n",
      "Iteration 60 :\n",
      "total cost = 458104.0\n",
      "content cost = 16428.5\n",
      "style cost = 7345.49\n",
      "Iteration 80 :\n",
      "total cost = 277317.0\n",
      "content cost = 15170.0\n",
      "style cost = 3140.44\n"
     ]
    },
    {
     "data": {
      "text/plain": [
       "array([[[[ -70.2171402 ,    7.59987164,   48.68011093],\n",
       "         [ -44.92092133,   -0.84762466,   47.99934006],\n",
       "         [ -28.02323151,  -33.91605377,   53.945858  ],\n",
       "         ..., \n",
       "         [  61.74430084,   25.93961334,   11.68121147],\n",
       "         [  24.83952904,   20.80891037,   -1.51951432],\n",
       "         [  18.76107788,   44.97562027,   41.09544754]],\n",
       "\n",
       "        [[ -91.07225037,   12.55751133,   63.49785614],\n",
       "         [ -54.03049469,  -15.80717373,   66.89714813],\n",
       "         [ -61.49749756,    2.71374202,   67.01888275],\n",
       "         ..., \n",
       "         [   4.93931627,   25.19931412,   71.55587006],\n",
       "         [ -19.6756649 ,   19.92364311,   52.49701691],\n",
       "         [  12.29049969,   29.72606659,   10.29687119]],\n",
       "\n",
       "        [[ -34.56655502,    4.92409992,   13.41173172],\n",
       "         [-123.45223236,   22.57130241,   82.50585938],\n",
       "         [ -89.09553528,   12.55381584,   64.1470871 ],\n",
       "         ..., \n",
       "         [  39.23864746,   33.21015549,   44.03363419],\n",
       "         [  35.12854004,   19.77348709,   60.31949997],\n",
       "         [  28.38388634,   60.52056885,    9.45855904]],\n",
       "\n",
       "        ..., \n",
       "        [[  30.65477562,   24.54680252,   38.77122498],\n",
       "         [  23.2859726 ,   41.21964264,   33.02977371],\n",
       "         [  37.72025681,   41.32834244,   37.27674103],\n",
       "         ..., \n",
       "         [  -5.6201582 ,  -90.60126495, -134.99880981],\n",
       "         [  19.70070839, -116.56345367, -175.1204071 ],\n",
       "         [   4.1791954 , -121.76979828, -159.02999878]],\n",
       "\n",
       "        [[  21.03331375,   26.30114746,   39.6942749 ],\n",
       "         [  -2.16858435,    3.21380949,   37.47327423],\n",
       "         [  19.6922245 ,   55.49141312,   -5.46010828],\n",
       "         ..., \n",
       "         [  24.5353756 , -122.48914337, -145.3011322 ],\n",
       "         [  97.39243317,  -82.59966278, -151.82249451],\n",
       "         [  45.07950974, -124.49537659, -154.88212585]],\n",
       "\n",
       "        [[  31.01477814,    8.04131889,   36.14126205],\n",
       "         [  -1.64058471,   33.41607666,   66.24932098],\n",
       "         [  28.60521507,   53.61219788,   10.79009724],\n",
       "         ..., \n",
       "         [ -66.30011749, -140.90942383, -179.92152405],\n",
       "         [   5.92396688, -192.42262268, -178.33618164],\n",
       "         [ -50.69023132, -182.97451782, -174.55747986]]]], dtype=float32)"
      ]
     },
     "execution_count": 34,
     "metadata": {},
     "output_type": "execute_result"
    }
   ],
   "source": [
    "full_model(sess,generated_image)"
   ]
  },
  {
   "cell_type": "code",
   "execution_count": 238,
   "metadata": {
    "collapsed": true
   },
   "outputs": [],
   "source": [
    "writer=tf.summary.FileWriter('C:/Users/Hp/Desktop/my work')\n",
    "writer.add_graph(sess.graph)"
   ]
  }
 ],
 "metadata": {
  "kernelspec": {
   "display_name": "Python 3",
   "language": "python",
   "name": "python3"
  },
  "language_info": {
   "codemirror_mode": {
    "name": "ipython",
    "version": 3
   },
   "file_extension": ".py",
   "mimetype": "text/x-python",
   "name": "python",
   "nbconvert_exporter": "python",
   "pygments_lexer": "ipython3",
   "version": "3.6.1"
  }
 },
 "nbformat": 4,
 "nbformat_minor": 2
}
